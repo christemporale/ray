{
 "cells": [
  {
   "cell_type": "markdown",
   "id": "7103ee0a",
   "metadata": {},
   "source": [
    "# Batch forecasting on Ray Tune"
   ]
  },
  {
   "cell_type": "markdown",
   "id": "e0947468",
   "metadata": {},
   "source": [
    "Batch training and tuning are common tasks in simple machine learning use-cases such as time series forecasting. They require fitting of simple models on multiple data batches corresponding to locations, products, etc.\n",
    "\n",
    "**'Batch training'** is a workload that trains model(s) on subsets of a dataset. This notebook showcases how to conduct batch training using [Ray Tune](https://docs.ray.io/en/latest/tune/index.html).\n",
    "\n",
    "![Batch training diagram](../../data/examples/images/batch-training.svg)\n",
    "\n",
    "For the data, we will use the [NYC Taxi dataset](https://www1.nyc.gov/site/tlc/about/tlc-trip-record-data.page). This popular tabular dataset contains historical taxi pickups by timestamp and location in NYC.\n",
    "\n",
    "In this notebook, we will split the data by pickup location and train a separate forecasting model to predict #pickups at each location in NYC at monthly level for the next 2 months. Specifically, we will use the `pickup_location_id` column in the dataset to group the dataset into data batches. Then we will fit a separate model for each batch and evaluate it."
   ]
  },
  {
   "cell_type": "markdown",
   "id": "fc5d50c1",
   "metadata": {
    "tags": []
   },
   "source": [
    "# Contents\n",
    "\n",
    "In this this tutorial, you will learn about:\n",
    " 1. [Define how to load and prepare Parquet data](#prepare_data)\n",
    " 2. [Define your Ray Tune Search Space and Search Algorithm](#define_search_space2)\n",
    " 3. [Define a Trainable (callable) function](#define_trainable2)\n",
    " 4. [Run batch training on Ray Tune](#run_tune_search2)\n",
    " 5. [Load a model from checkpoint and perform inference](#load_checkpoint2)\n"
   ]
  },
  {
   "cell_type": "markdown",
   "id": "8d25b404",
   "metadata": {},
   "source": [
    "# Walkthrough\n",
    "\n",
    "```{tip}\n",
    "Prerequisite for this notebook: Read the [Key Concepts](https://docs.ray.io/en/latest/tune/key-concepts.html) page for Ray Tune.\n",
    "```\n",
    "\n",
    "Let us start by importing a few required libraries, including open-source [Ray](https://github.com/ray-project/ray) itself!"
   ]
  },
  {
   "cell_type": "code",
   "execution_count": 1,
   "id": "9c736e11",
   "metadata": {},
   "outputs": [
    {
     "name": "stdout",
     "output_type": "stream",
     "text": [
      "Number of CPUs in this system: 8\n",
      "numpy: 1.21.6\n",
      "scipy: 1.7.3\n",
      "pyarrow: 10.0.0\n"
     ]
    }
   ],
   "source": [
    "import os\n",
    "print(f'Number of CPUs in this system: {os.cpu_count()}')\n",
    "from typing import Tuple, List, Union, Optional, Callable\n",
    "from datetime import datetime\n",
    "import time\n",
    "import pandas as pd\n",
    "import numpy as np\n",
    "print(f\"numpy: {np.__version__}\")\n",
    "import matplotlib.pyplot as plt\n",
    "%matplotlib inline\n",
    "import scipy\n",
    "print(f\"scipy: {scipy.__version__}\")\n",
    "import pyarrow\n",
    "import pyarrow.parquet as pq\n",
    "import pyarrow.dataset as pds\n",
    "print(f\"pyarrow: {pyarrow.__version__}\")"
   ]
  },
  {
   "cell_type": "code",
   "execution_count": 2,
   "id": "5c34ae0c",
   "metadata": {},
   "outputs": [
    {
     "name": "stderr",
     "output_type": "stream",
     "text": [
      "2022-11-19 12:16:31,161\tINFO worker.py:1519 -- Started a local Ray instance. View the dashboard at \u001b[1m\u001b[32mhttp://127.0.0.1:8265 \u001b[39m\u001b[22m\n"
     ]
    },
    {
     "data": {
      "text/html": [
       "<div>\n",
       "    <div style=\"margin-left: 50px;display: flex;flex-direction: row;align-items: center\">\n",
       "        <h3 style=\"color: var(--jp-ui-font-color0)\">Ray</h3>\n",
       "        <svg version=\"1.1\" id=\"ray\" width=\"3em\" viewBox=\"0 0 144.5 144.6\" style=\"margin-left: 3em;margin-right: 3em\">\n",
       "            <g id=\"layer-1\">\n",
       "                <path fill=\"#00a2e9\" class=\"st0\" d=\"M97.3,77.2c-3.8-1.1-6.2,0.9-8.3,5.1c-3.5,6.8-9.9,9.9-17.4,9.6S58,88.1,54.8,81.2c-1.4-3-3-4-6.3-4.1\n",
       "                    c-5.6-0.1-9.9,0.1-13.1,6.4c-3.8,7.6-13.6,10.2-21.8,7.6C5.2,88.4-0.4,80.5,0,71.7c0.1-8.4,5.7-15.8,13.8-18.2\n",
       "                    c8.4-2.6,17.5,0.7,22.3,8c1.3,1.9,1.3,5.2,3.6,5.6c3.9,0.6,8,0.2,12,0.2c1.8,0,1.9-1.6,2.4-2.8c3.5-7.8,9.7-11.8,18-11.9\n",
       "                    c8.2-0.1,14.4,3.9,17.8,11.4c1.3,2.8,2.9,3.6,5.7,3.3c1-0.1,2,0.1,3,0c2.8-0.5,6.4,1.7,8.1-2.7s-2.3-5.5-4.1-7.5\n",
       "                    c-5.1-5.7-10.9-10.8-16.1-16.3C84,38,81.9,37.1,78,38.3C66.7,42,56.2,35.7,53,24.1C50.3,14,57.3,2.8,67.7,0.5\n",
       "                    C78.4-2,89,4.7,91.5,15.3c0.1,0.3,0.1,0.5,0.2,0.8c0.7,3.4,0.7,6.9-0.8,9.8c-1.7,3.2-0.8,5,1.5,7.2c6.7,6.5,13.3,13,19.8,19.7\n",
       "                    c1.8,1.8,3,2.1,5.5,1.2c9.1-3.4,17.9-0.6,23.4,7c4.8,6.9,4.6,16.1-0.4,22.9c-5.4,7.2-14.2,9.9-23.1,6.5c-2.3-0.9-3.5-0.6-5.1,1.1\n",
       "                    c-6.7,6.9-13.6,13.7-20.5,20.4c-1.8,1.8-2.5,3.2-1.4,5.9c3.5,8.7,0.3,18.6-7.7,23.6c-7.9,5-18.2,3.8-24.8-2.9\n",
       "                    c-6.4-6.4-7.4-16.2-2.5-24.3c4.9-7.8,14.5-11,23.1-7.8c3,1.1,4.7,0.5,6.9-1.7C91.7,98.4,98,92.3,104.2,86c1.6-1.6,4.1-2.7,2.6-6.2\n",
       "                    c-1.4-3.3-3.8-2.5-6.2-2.6C99.8,77.2,98.9,77.2,97.3,77.2z M72.1,29.7c5.5,0.1,9.9-4.3,10-9.8c0-0.1,0-0.2,0-0.3\n",
       "                    C81.8,14,77,9.8,71.5,10.2c-5,0.3-9,4.2-9.3,9.2c-0.2,5.5,4,10.1,9.5,10.3C71.8,29.7,72,29.7,72.1,29.7z M72.3,62.3\n",
       "                    c-5.4-0.1-9.9,4.2-10.1,9.7c0,0.2,0,0.3,0,0.5c0.2,5.4,4.5,9.7,9.9,10c5.1,0.1,9.9-4.7,10.1-9.8c0.2-5.5-4-10-9.5-10.3\n",
       "                    C72.6,62.3,72.4,62.3,72.3,62.3z M115,72.5c0.1,5.4,4.5,9.7,9.8,9.9c5.6-0.2,10-4.8,10-10.4c-0.2-5.4-4.6-9.7-10-9.7\n",
       "                    c-5.3-0.1-9.8,4.2-9.9,9.5C115,72.1,115,72.3,115,72.5z M19.5,62.3c-5.4,0.1-9.8,4.4-10,9.8c-0.1,5.1,5.2,10.4,10.2,10.3\n",
       "                    c5.6-0.2,10-4.9,9.8-10.5c-0.1-5.4-4.5-9.7-9.9-9.6C19.6,62.3,19.5,62.3,19.5,62.3z M71.8,134.6c5.9,0.2,10.3-3.9,10.4-9.6\n",
       "                    c0.5-5.5-3.6-10.4-9.1-10.8c-5.5-0.5-10.4,3.6-10.8,9.1c0,0.5,0,0.9,0,1.4c-0.2,5.3,4,9.8,9.3,10\n",
       "                    C71.6,134.6,71.7,134.6,71.8,134.6z\"/>\n",
       "            </g>\n",
       "        </svg>\n",
       "        <table>\n",
       "            <tr>\n",
       "                <td style=\"text-align: left\"><b>Python version:</b></td>\n",
       "                <td style=\"text-align: left\"><b>3.8.13</b></td>\n",
       "            </tr>\n",
       "            <tr>\n",
       "                <td style=\"text-align: left\"><b>Ray version:</b></td>\n",
       "                <td style=\"text-align: left\"><b> 2.1.0</b></td>\n",
       "            </tr>\n",
       "            <tr>\n",
       "    <td style=\"text-align: left\"><b>Dashboard:</b></td>\n",
       "    <td style=\"text-align: left\"><b><a href=\"http://127.0.0.1:8265\" target=\"_blank\">http://127.0.0.1:8265</a></b></td>\n",
       "</tr>\n",
       "\n",
       "        </table>\n",
       "    </div>\n",
       "</div>\n"
      ],
      "text/plain": [
       "RayContext(dashboard_url='127.0.0.1:8265', python_version='3.8.13', ray_version='2.1.0', ray_commit='be49bde7ee4f6adb3f8710aee0665c27f9f0bb62', address_info={'node_ip_address': '127.0.0.1', 'raylet_ip_address': '127.0.0.1', 'redis_address': None, 'object_store_address': '/tmp/ray/session_2022-11-19_12-16-29_088267_59191/sockets/plasma_store', 'raylet_socket_name': '/tmp/ray/session_2022-11-19_12-16-29_088267_59191/sockets/raylet', 'webui_url': '127.0.0.1:8265', 'session_dir': '/tmp/ray/session_2022-11-19_12-16-29_088267_59191', 'metrics_export_port': 58526, 'gcs_address': '127.0.0.1:62999', 'address': '127.0.0.1:62999', 'dashboard_agent_listen_port': 52365, 'node_id': 'c9f3e9a7919f881a91f33fd70c484b4f46819347098fdff68648baf8'})"
      ]
     },
     "execution_count": 2,
     "metadata": {},
     "output_type": "execute_result"
    }
   ],
   "source": [
    "import ray\n",
    "\n",
    "if ray.is_initialized():\n",
    "    ray.shutdown()\n",
    "ray.init()"
   ]
  },
  {
   "cell_type": "code",
   "execution_count": 3,
   "id": "1f9585fb",
   "metadata": {},
   "outputs": [
    {
     "name": "stdout",
     "output_type": "stream",
     "text": [
      "{'node:127.0.0.1': 1.0, 'memory': 7380769178.0, 'object_store_memory': 2147483648.0, 'CPU': 8.0}\n"
     ]
    }
   ],
   "source": [
    "print(ray.cluster_resources())"
   ]
  },
  {
   "cell_type": "code",
   "execution_count": 4,
   "id": "0aad0e42",
   "metadata": {},
   "outputs": [
    {
     "name": "stdout",
     "output_type": "stream",
     "text": [
      "statsmodels: 0.14.0.dev598+g46116c493\n",
      "prophet: 1.0\n",
      "arima: 2.0.1\n"
     ]
    }
   ],
   "source": [
    "# import forecasting libraries\n",
    "import statsmodels\n",
    "print(f\"statsmodels: {statsmodels.__version__}\")\n",
    "import prophet\n",
    "from prophet import Prophet\n",
    "print(f\"prophet: {prophet.__version__}\")\n",
    "# Open-source ARIMA forecasting libraries\n",
    "import pmdarima\n",
    "from pmdarima.model_selection import train_test_split\n",
    "print(f\"arima: {pmdarima.__version__}\")\n",
    "\n",
    "# import ray libraries\n",
    "from ray import air, tune\n",
    "from ray.air import session\n",
    "from ray.air.checkpoint import Checkpoint\n",
    "\n",
    "# set global random seed for sklearn models\n",
    "np.random.seed(415)"
   ]
  },
  {
   "cell_type": "code",
   "execution_count": 5,
   "id": "0f5a0caa",
   "metadata": {},
   "outputs": [],
   "source": [
    "# For benchmarking purposes, we can print the times of various operations.\n",
    "# In order to reduce clutter in the output, this is set to False by default.\n",
    "PRINT_TIMES = False\n",
    "\n",
    "def print_time(msg: str):\n",
    "    if PRINT_TIMES:\n",
    "        print(msg)\n",
    "        \n",
    "# To speed things up, we’ll only use a small subset of the full dataset consisting of two last months of 2019.\n",
    "# You can choose to use the full dataset for 2018-2019 by setting the SMOKE_TEST variable to False.\n",
    "SMOKE_TEST = True\n"
   ]
  },
  {
   "cell_type": "markdown",
   "id": "ae416299",
   "metadata": {
    "tags": []
   },
   "source": [
    "## Define how to load and prepare Parquet data <a class=\"anchor\" id=\"load_data\"></a>"
   ]
  },
  {
   "cell_type": "markdown",
   "id": "cce7a791",
   "metadata": {},
   "source": [
    "First, we need to load some data.  Since the NYC Taxi dataset is fairly large, we will filter files first into a PyArrow dataset. And then in the next cell after, we will filter the data on read into a PyArrow table and convert that to a pandas dataframe.\n",
    "\n",
    "```{tip}\n",
    "Use PyArrow dataset and table for reading or writing large parquet files, since its native multithreaded C++ adpater is faster than pandas read_parquet, even using engine=pyarrow.\n",
    "```"
   ]
  },
  {
   "cell_type": "code",
   "execution_count": 6,
   "id": "da9d973e",
   "metadata": {},
   "outputs": [
    {
     "name": "stdout",
     "output_type": "stream",
     "text": [
      "NYC Taxi using 6 file(s)!\n",
      "s3_files: ['s3://anonymous@air-example-data/ursa-labs-taxi-data/by_year/2019/01/data.parquet/ecce6478ad09480cbc8539e0b6197c2d_000000.parquet', 's3://anonymous@air-example-data/ursa-labs-taxi-data/by_year/2019/02/data.parquet/5bc40cf9bc1145cbb0867d39064daa01_000000.parquet', 's3://anonymous@air-example-data/ursa-labs-taxi-data/by_year/2019/03/data.parquet/8b894872a484458cbd5a6cd0425b77df_000000.parquet', 's3://anonymous@air-example-data/ursa-labs-taxi-data/by_year/2019/04/data.parquet/7e490662e39c4bfe8c64c6a2c45c9e8b_000000.parquet', 's3://anonymous@air-example-data/ursa-labs-taxi-data/by_year/2019/05/data.parquet/359c21b3e28f40328e68cf66f7ba40e2_000000.parquet', 's3://anonymous@air-example-data/ursa-labs-taxi-data/by_year/2019/06/data.parquet/ab5b9d2b8cc94be19346e260b543ec35_000000.parquet']\n",
      "Locations: [141, 163, 173]\n"
     ]
    }
   ],
   "source": [
    "# Define some global variables.\n",
    "TARGET = \"trip_duration\"\n",
    "FORECAST_LENGTH = 28\n",
    "s3_partitions = pds.dataset(\n",
    "    \"s3://anonymous@air-example-data/ursa-labs-taxi-data/by_year/\",\n",
    "    partitioning=[\"year\", \"month\"],\n",
    ")\n",
    "s3_files = [f\"s3://anonymous@{file}\" for file in s3_partitions.files]\n",
    "\n",
    "# Obtain all location IDs\n",
    "all_location_ids = (\n",
    "    pq.read_table(s3_files[0], columns=[\"pickup_location_id\"])[\"pickup_location_id\"]\n",
    "    .unique()\n",
    "    .to_pylist()\n",
    ")\n",
    "# drop [264, 265]\n",
    "all_location_ids.remove(264)\n",
    "all_location_ids.remove(265)\n",
    "\n",
    "# Use smoke testing or not.\n",
    "starting_idx = -6 if SMOKE_TEST else 0\n",
    "#TODO - drop error-handling test in SMOKE_TEST location 199 \n",
    "sample_locations = [141, 163, 173] if SMOKE_TEST else all_location_ids\n",
    "\n",
    "# Display what data will be used.\n",
    "s3_files = s3_files[starting_idx:]\n",
    "print(f\"NYC Taxi using {len(s3_files)} file(s)!\")\n",
    "print(f\"s3_files: {s3_files}\")\n",
    "print(f\"Locations: {sample_locations}\")"
   ]
  },
  {
   "cell_type": "code",
   "execution_count": 7,
   "id": "ed4e5781",
   "metadata": {},
   "outputs": [],
   "source": [
    "# Function to read a pyarrow.Table object using pyarrow parquet \n",
    "def read_data(file: str, sample_id: np.int32) -> pd.DataFrame:\n",
    "    \n",
    "    # parse out min expected date\n",
    "    part_zero = 's3://anonymous@air-example-data/ursa-labs-taxi-data/by_year/'\n",
    "    split_text = file.split(part_zero)[1]\n",
    "    min_year = split_text.split('/')[0]\n",
    "    min_month = split_text.split('/')[1]\n",
    "    string_date = min_year + \"-\" + min_month + \"-\" + \"01\" + \" 00:00:00\"\n",
    "    min_date = datetime.strptime(string_date, \"%Y-%m-%d %H:%M:%S\")\n",
    "    \n",
    "    df = pq.read_table(\n",
    "        file,\n",
    "        filters=[\n",
    "            (\"pickup_at\", \">=\", min_date),\n",
    "            (\"passenger_count\", \">\", 0),\n",
    "            (\"trip_distance\", \">\", 0),\n",
    "            (\"fare_amount\", \">\", 0),\n",
    "            (\"pickup_location_id\", \"not in\", [264, 265]),\n",
    "            (\"dropoff_location_id\", \"not in\", [264, 265]), \n",
    "            (\"pickup_location_id\", \"=\", sample_id)\n",
    "        ],\n",
    "        columns=[\n",
    "            \"pickup_at\",\n",
    "            \"dropoff_at\",\n",
    "            \"pickup_location_id\",\n",
    "            \"dropoff_location_id\",\n",
    "            \"passenger_count\",\n",
    "            \"trip_distance\",\n",
    "            \"fare_amount\",\n",
    "        ],\n",
    "    ).to_pandas()\n",
    "    return df\n",
    "\n",
    "# Function to transform a pandas dataframe\n",
    "def transform_df(input_df: pd.DataFrame) -> pd.DataFrame:\n",
    "    df = input_df.copy()\n",
    "    \n",
    "    # calculate trip_duration\n",
    "    df[\"trip_duration\"] = (df[\"dropoff_at\"] - df[\"pickup_at\"]).dt.seconds\n",
    "    # filter trip_durations > 1 minute and less than 24 hours\n",
    "    df = df[df[\"trip_duration\"] > 60]\n",
    "    df = df[df[\"trip_duration\"] < 24 * 60 * 60]\n",
    "    \n",
    "    # Prophet requires timstamp is 'ds' and target_value name is 'y'\n",
    "    # Prophet requires at least 2 data points per timestamp\n",
    "    \n",
    "    # add year_month_day and concat into a unique column to use as groupby key\n",
    "    df['ds'] = df['pickup_at'].dt.to_period('D').dt.to_timestamp()\n",
    "    df['loc_year_month_day'] = df['pickup_location_id'].astype(str) + \"_\"  + \\\n",
    "                            df[\"pickup_at\"].dt.year.astype(str) + \"_\"  + \\\n",
    "                            df[\"pickup_at\"].dt.month.astype(str) + \"_\"  + \\\n",
    "                            df[\"pickup_at\"].dt.day.astype(str)\n",
    "    # add target_value quantity for groupby count later\n",
    "    df['y'] = 1\n",
    "    # drop unnecessary columns\n",
    "    df.drop([\"dropoff_at\", \"pickup_at\", \"dropoff_location_id\", \"fare_amount\",\n",
    "            \"pickup_location_id\", \"passenger_count\", \"trip_distance\", \"trip_duration\"]\n",
    "            , axis=1, inplace=True)\n",
    "#     return df\n",
    "    \n",
    "    # groupby aggregregate\n",
    "    g = df.groupby(\"loc_year_month_day\")\\\n",
    "                .agg({'ds': min,\n",
    "                      'y': sum})\n",
    "    # having num rows in group > 2\n",
    "    g.dropna(inplace=True)\n",
    "    g = g[g['y'] > 2].copy()\n",
    "    \n",
    "    # Drop groupby variable since we do not need it anymore\n",
    "    g.reset_index(inplace=True)\n",
    "    g.drop([\"loc_year_month_day\"], axis=1, inplace=True)\n",
    "    \n",
    "    return g"
   ]
  },
  {
   "cell_type": "code",
   "execution_count": 8,
   "id": "ceb81b5f",
   "metadata": {},
   "outputs": [],
   "source": [
    "# %%time\n",
    "\n",
    "# # Test reading data pandas.\n",
    "# sample_location_id = 1\n",
    "# df_list = [read_data(f, sample_location_id) for f in s3_files] \n",
    "# [print(i.shape) for i in df_list]\n",
    "# df_raw = pd.concat(df_list, ignore_index=True)\n",
    "\n",
    "# # Abort if df has fewer than 3 * FORECAST_LENGTH\n",
    "# if df_raw.shape[0] < FORECAST_LENGTH * 3:\n",
    "#     print(f\"ERROR df_raw has {df_raw.shape[0]}\")\n",
    "# else:\n",
    "#     df = transform_df(df_raw)\n",
    "    \n",
    "# print(df.shape)\n",
    "# print(df.sample(5))\n",
    "# # check null values\n",
    "# print(\"Checking for null values...\")\n",
    "# print(df.info())\n",
    "# # check ranges\n",
    "# print(\"Checking ranges make sure y has at least 2 data points...\")\n",
    "# df.describe(include='all', datetime_is_numeric=True)\n",
    "\n",
    "\n",
    "# # All data 18 files, with pandas groupby monthly, forecast 6 months\n",
    "# # CPU times: user 35.8 s, sys: 16 s, total: 51.8 s\n",
    "# # Wall time: 1min 1s\n",
    "\n",
    "# # 6 files, with pandas groupby daily, forecast next 28 days\n",
    "# # CPU times: user 11.7 s, sys: 5.43 s, total: 17.1 s\n",
    "# # Wall time: 16.4 s\n",
    "\n",
    "# # 3 files, with pandas groupby daily, forecast next 28 days\n",
    "# # CPU times: user 5.84 s, sys: 2.36 s, total: 8.2 s\n",
    "# # Wall time: 6.51 s"
   ]
  },
  {
   "cell_type": "code",
   "execution_count": 9,
   "id": "2ef6c83b",
   "metadata": {},
   "outputs": [],
   "source": [
    "# # plot a timeseries\n",
    "# plt.figure(figsize=(8, 5))\n",
    "# ax = plt.gca()\n",
    "# df.plot(x=\"ds\", y=\"y\", ax=ax, label=f\"pickup_location_id={sample_location_id}\");\n",
    "\n",
    "# # example location = 1 is a sparse dataset, this is usually very hard to predict!"
   ]
  },
  {
   "cell_type": "markdown",
   "id": "2ab83830",
   "metadata": {
    "tags": []
   },
   "source": [
    "## Define your Ray Tune Search Space and Search Algorithm <a class=\"anchor\" id=\"define_search_space\"></a>"
   ]
  },
  {
   "cell_type": "markdown",
   "id": "221bd014",
   "metadata": {},
   "source": [
    "In this notebook, we will use Ray Tune to run parallel training jobs per pickup location.  The training jobs will be defined using a search space and simple grid search.  Depending on your need, fancier search spaces and search algorithms are possible with Tune. \n",
    "\n",
    "**First, define a search space of experiment trials to run.**  \n",
    "> The typical use case for Tune search spaces are for hypterparameter tuning.  In our case, we are defining a Tune search space in a way to allow for training jobs to be conducted automatically.  Each training job will run on a different data partition (taxi pickup location) and use a different model.\n",
    "\n",
    "Common search algorithms include grid search, random search, and Bayesian optimization.  For more details, see [Working with Tune Search Spaces](https://docs.ray.io/en/master/tune/tutorials/tune-search-spaces.html#tune-search-space-tutorial).  Deciding the best combination of search space and search algorithm is part of the art of being a Data Scientist and depends on the data, algorithm, and problem being solved!  \n",
    "\n",
    "**Next, define a search algorithm.**\n",
    ">Ray Tune will use the search space and the specified search algorithm to generate multiple configurations, each of which will be evaluated in a separate Trial on a Ray Cluster. Ray Tune will take care of orchestrating those Trials automatically.  Specifically, Ray Tune will pass a config dictionary to each partition and make a Trainable function call.\n",
    "\n",
    "**Below, we define our search space consists of:**\n",
    "- Prophet seasonality parameters \n",
    "- Some or all NYC taxi drop-off locations. \n",
    "\n",
    "**Also below, we define our search algorithm is:**\n",
    "- Grid search.\n",
    "\n",
    "What this means is every algorithm will be applied to every NYC Taxi drop-off location."
   ]
  },
  {
   "cell_type": "code",
   "execution_count": 10,
   "id": "3d6202d4",
   "metadata": {},
   "outputs": [],
   "source": [
    "# 1. Define a search space.\n",
    "search_space = {\n",
    "    \"model_type\": tune.grid_search([\"prophet_additive\", \"prophet_multiplicative\", \"arima\"]),\n",
    "    \"location\": tune.grid_search(sample_locations),\n",
    "}"
   ]
  },
  {
   "cell_type": "markdown",
   "id": "d3dbc070",
   "metadata": {},
   "source": [
    "## Define a Trainable (callable) function <a class=\"anchor\" id=\"define_trainable\"></a>"
   ]
  },
  {
   "cell_type": "markdown",
   "id": "3ece585b",
   "metadata": {},
   "source": [
    "📈 Typically when you are running Data Science experiments, you want to be able to keep track of summary metrics for each trial, so you can decide at the end which trials were best.  That way, you can decide which model to deploy.\n",
    "\n",
    "🇫 Next, we define a trainable function in order to train and evaluate a Prophet model on a data partition.  This function will be called in parallel by every Tune trial.  Inside this trainable function, we will:\n",
    "- Add detailed metrics we want to report (each model's loss or error). \n",
    "- Checkpoint each model for easy deployment later.\n",
    "\n",
    "📖 **The metrics defined inside the trainable function will appear in the Ray Tune experiment summary table.**\n",
    "```{tip}\n",
    "Ray Tune has two ways of defining a trainable, namely the [Function API](https://docs.ray.io/en/latest/tune/api_docs/trainable.html#trainable-docs) and the Class API. Both are valid ways of defining a trainable, but *the Function API is generally recommended*.\n",
    "```\n",
    "\n",
    "**In the cell below, we define a \"Trainable\" function called `train_model()`**.  \n",
    "- The input is a config dictionary argument. \n",
    "- The output can be a simple dictionary of metrics which will be reported back to Tune.  \n",
    "- We will [checkpoint](https://docs.ray.io/en/master/ray-air/key-concepts.html#checkpoints) save each model in addition to reporting each trial's metrics.\n",
    "- Since we are using **grid search**, this means `train_model()` will be run *in parallel for every permutation* in the Tune search space!"
   ]
  },
  {
   "cell_type": "code",
   "execution_count": 12,
   "id": "da441b54",
   "metadata": {},
   "outputs": [],
   "source": [
    "def evaluate_model_prophet(model: 'prophet.forecaster.Prophet') -> Tuple[float, pd.DataFrame]:\n",
    "\n",
    "    # Inference model using FORECAST_LENGTH.\n",
    "    future_dates = model.make_future_dataframe(periods=FORECAST_LENGTH, freq='D')\n",
    "    future = model.predict(future_dates)\n",
    "\n",
    "    # Calculate mean absolute forecast error.\n",
    "    temp = future.copy()\n",
    "    temp['forecast_error'] = np.abs(temp['yhat'] - temp['trend'])\n",
    "    error = np.mean(temp['forecast_error'])\n",
    "\n",
    "    return error, future\n",
    "\n",
    "def evaluate_model_arima(model: 'pmdarima.arima.arima.ARIMA', \n",
    "                         test_df: pd.DataFrame) -> Tuple[float, pd.DataFrame]:\n",
    "\n",
    "    # Inference model using test data.\n",
    "    forecast = pd.DataFrame(model.predict(n_periods=FORECAST_LENGTH, index=test_df.index))\n",
    "    forecast.reset_index(drop=True, inplace=True)\n",
    "    test_df.reset_index(drop=True, inplace=True)\n",
    "    future = pd.concat([test_df, forecast], axis=1)\n",
    "    future.columns = ['trend', 'yhat']\n",
    "\n",
    "    # Calculate mean absolute forecast error.\n",
    "    temp = future.copy()\n",
    "    temp['forecast_error'] = np.abs(temp['yhat'] - temp['trend'])\n",
    "    error = np.mean(temp['forecast_error'])\n",
    "\n",
    "    return error, future\n",
    "\n",
    "# 2. Define a custom train function\n",
    "def train_model(config: dict) -> None:\n",
    "\n",
    "    # Get Tune parameters\n",
    "    sample_location_id = config['location']\n",
    "    model_type = config['model_type']\n",
    "    train_df = pd.DataFrame()\n",
    "    test_df = pd.DataFrame()\n",
    "    \n",
    "    # Define Prophet model with 75% confidence interval\n",
    "    if model_type == \"prophet_additive\":\n",
    "        model = Prophet(interval_width=0.75, seasonality_mode=\"additive\")\n",
    "    elif model_type == \"prophet_multiplicative\":\n",
    "        model = Prophet(interval_width=0.75, seasonality_mode=\"multiplicative\")\n",
    "    \n",
    "    # Load data.\n",
    "    df_list = [read_data(f, sample_location_id) for f in s3_files]   \n",
    "    df_raw = pd.concat(df_list, ignore_index=True)  \n",
    "    # Abort Tune to avoid Tune Error if df has too few rows\n",
    "    if df_raw.shape[0] < FORECAST_LENGTH:\n",
    "        print_time(f\"Location {sample_location_id} has only {df_raw.shape[0]} rows\")\n",
    "        return None\n",
    "\n",
    "    # Transform data.\n",
    "    df = transform_df(df_raw)\n",
    "    # Abort Tune to avoid Tune Error if df has too few rows\n",
    "    if df.shape[0] < FORECAST_LENGTH:\n",
    "        print_time(f\"Location {sample_location_id} has only {df.shape[0]} rows\")\n",
    "        return None\n",
    "    \n",
    "    # Train model.\n",
    "    if model_type == \"arima\":\n",
    "        # ARIMA requires pandas df indexed by time\n",
    "        df_indexed = df.copy()\n",
    "        df_indexed = df_indexed.sort_values('ds')\n",
    "        df_indexed = df_indexed.set_index(['ds'])\n",
    "        train_df, test_df = train_test_split(df_indexed, test_size=FORECAST_LENGTH)\n",
    "        model = pmdarima.auto_arima(y=train_df.y)\n",
    "        # Inference model and evaluate error.\n",
    "        error, future = evaluate_model_arima(model, test_df)\n",
    "    else: \n",
    "        #model type is Prophet\n",
    "        model = model.fit(df[['ds', 'y']])\n",
    "        # Inference model and evaluate error.\n",
    "        error, future = evaluate_model_prophet(model)\n",
    "    \n",
    "    # Define a model checkpoint using AIR API.  \n",
    "    # https://docs.ray.io/en/latest/tune/tutorials/tune-checkpoints.html\n",
    "    checkpoint = ray.air.checkpoint.Checkpoint.from_dict({\n",
    "        \"model\": model, \n",
    "        \"forecast_df\": future,\n",
    "        \"location_id\": sample_location_id})\n",
    "\n",
    "    # Save checkpoint and report back metrics, using ray.air.session.report()\n",
    "    # The metrics you specify here will appear in Tune summary table.\n",
    "    # They will also be recorded in Tune results under `metrics`.\n",
    "    metrics = dict(error = error)\n",
    "    session.report(\n",
    "            metrics, \n",
    "            checkpoint=checkpoint)"
   ]
  },
  {
   "cell_type": "markdown",
   "id": "1fb09f8d",
   "metadata": {},
   "source": [
    "## Run batch training on Ray Tune <a class=\"anchor\" id=\"run_tune_search\"></a>"
   ]
  },
  {
   "cell_type": "markdown",
   "id": "20a5ced2",
   "metadata": {},
   "source": [
    "**In the cell below, we configure the resources allocated per trial.** \n",
    "\n",
    "Tune uses this resources allocation to control the parallelism. For example, if each trial was configured to use 4 CPUs, and the cluster had only 32 CPUs, then Tune will limit the number of concurrent trials to 8 to avoid overloading the cluster. For more information, see [A Guide To Parallelism and Resources](https://docs.ray.io/en/master/tune/tutorials/tune-resources.html#tune-parallelism)."
   ]
  },
  {
   "cell_type": "code",
   "execution_count": 13,
   "id": "9aeffdbb",
   "metadata": {},
   "outputs": [],
   "source": [
    "# 3. Customize resources per trial, here we set 1 CPU each.\n",
    "train_model = tune.with_resources(train_model, {\"cpu\": 1})"
   ]
  },
  {
   "cell_type": "markdown",
   "id": "45b61fa0",
   "metadata": {},
   "source": [
    "<br>\n",
    "\n",
    "**Now we are ready to kick off a Ray Tune experiment!**  \n",
    "\n",
    "Recall what we are doing, high level, is training several different models per pickup location.  We are using Ray Tune so we can run all these trials in parallel.  At the end, we will inspect the results of the experiment and deploy only the best model per pickup location.\n",
    "\n",
    "**In the cell below, we use AIR configs and run the experiment using `tuner.fit()`.** \n",
    "\n",
    "Tune will report on experiment status, and after the experiment finishes, you can inspect the results. \n",
    "\n",
    "In the AIR config below, we have specified a local directory `my_Tune_logs` for logging instead of the default `~/ray_results` directory. Giving your logs a project name makes them easier to find.  Also giving a relative path, means you can see your logs inside the Jupyter browser.  Learn more about logging Tune results at [How to configure logging in Tune](https://docs.ray.io/en/master/tune/tutorials/tune-output.html#tune-logging).\n",
    "\n",
    "Tune can [retry failed experiments automatically](https://docs.ray.io/en/master/tune/tutorials/tune-stopping.html#tune-stopping-guide), as well as entire experiments.  This is necessary in case a node on your remote cluster fails (when running on a cloud such as AWS or GCP).\n",
    "\n",
    "💡 Right-click on the cell below and choose \"Enable Scrolling for Outputs\"! This will make it easier to view, since model training output can be very long!\n",
    "\n",
    "**In the output below and in the Ray Dashboard, you can see that 771 models, using 18 NYC Taxi S3 files dating from 2018/01 to 2019/06 (split into partitions approx 1GiB each), were simultaneously trained on a 7-node AWS cluster of [m5.4xlarges](https://aws.amazon.com/ec2/instance-types/m5/), within 40 minutes.**"
   ]
  },
  {
   "cell_type": "code",
   "execution_count": 14,
   "id": "a20e6faa",
   "metadata": {
    "scrolled": true,
    "tags": []
   },
   "outputs": [
    {
     "name": "stderr",
     "output_type": "stream",
     "text": [
      "2022-11-19 12:17:37,995\tWARNING function_trainable.py:586 -- Function checkpointing is disabled. This may result in unexpected behavior when using checkpointing features or certain schedulers. To enable, set the train function arguments to be `func(config, checkpoint_dir=None)`.\n"
     ]
    },
    {
     "data": {
      "text/html": [
       "<div class=\"tuneStatus\">\n",
       "  <div style=\"display: flex;flex-direction: row\">\n",
       "    <div style=\"display: flex;flex-direction: column;\">\n",
       "      <h3>Tune Status</h3>\n",
       "      <table>\n",
       "<tbody>\n",
       "<tr><td>Current time:</td><td>2022-11-19 12:31:39</td></tr>\n",
       "<tr><td>Running for: </td><td>00:14:00.86        </td></tr>\n",
       "<tr><td>Memory:      </td><td>11.8/16.0 GiB      </td></tr>\n",
       "</tbody>\n",
       "</table>\n",
       "    </div>\n",
       "    <div class=\"vDivider\"></div>\n",
       "    <div class=\"systemInfo\">\n",
       "      <h3>System Info</h3>\n",
       "      Using FIFO scheduling algorithm.<br>Resources requested: 0/8 CPUs, 0/0 GPUs, 0.0/6.87 GiB heap, 0.0/2.0 GiB objects\n",
       "    </div>\n",
       "    \n",
       "  </div>\n",
       "  <div class=\"hDivider\"></div>\n",
       "  <div class=\"trialStatus\">\n",
       "    <h3>Trial Status</h3>\n",
       "    <table>\n",
       "<thead>\n",
       "<tr><th>Trial name             </th><th>status    </th><th>loc            </th><th style=\"text-align: right;\">  location</th><th>model_type          </th><th style=\"text-align: right;\">  iter</th><th style=\"text-align: right;\">  total time (s)</th><th style=\"text-align: right;\">    error</th></tr>\n",
       "</thead>\n",
       "<tbody>\n",
       "<tr><td>train_model_3638d_00000</td><td>TERMINATED</td><td>127.0.0.1:59351</td><td style=\"text-align: right;\">       141</td><td>prophet_additive    </td><td style=\"text-align: right;\">     1</td><td style=\"text-align: right;\">         747.572</td><td style=\"text-align: right;\">429.015  </td></tr>\n",
       "<tr><td>train_model_3638d_00001</td><td>TERMINATED</td><td>127.0.0.1:59359</td><td style=\"text-align: right;\">       163</td><td>prophet_additive    </td><td style=\"text-align: right;\">     1</td><td style=\"text-align: right;\">         758.735</td><td style=\"text-align: right;\">765.727  </td></tr>\n",
       "<tr><td>train_model_3638d_00002</td><td>TERMINATED</td><td>127.0.0.1:59360</td><td style=\"text-align: right;\">       173</td><td>prophet_additive    </td><td style=\"text-align: right;\">     1</td><td style=\"text-align: right;\">         749.504</td><td style=\"text-align: right;\">  2.01364</td></tr>\n",
       "<tr><td>train_model_3638d_00003</td><td>TERMINATED</td><td>127.0.0.1:59361</td><td style=\"text-align: right;\">       141</td><td>prophet_multipl_1170</td><td style=\"text-align: right;\">     1</td><td style=\"text-align: right;\">         735.254</td><td style=\"text-align: right;\">424.163  </td></tr>\n",
       "<tr><td>train_model_3638d_00004</td><td>TERMINATED</td><td>127.0.0.1:59362</td><td style=\"text-align: right;\">       163</td><td>prophet_multipl_1170</td><td style=\"text-align: right;\">     1</td><td style=\"text-align: right;\">         745.787</td><td style=\"text-align: right;\">757.584  </td></tr>\n",
       "<tr><td>train_model_3638d_00005</td><td>TERMINATED</td><td>127.0.0.1:59364</td><td style=\"text-align: right;\">       173</td><td>prophet_multipl_1170</td><td style=\"text-align: right;\">     1</td><td style=\"text-align: right;\">         748.94 </td><td style=\"text-align: right;\">  1.95361</td></tr>\n",
       "<tr><td>train_model_3638d_00006</td><td>TERMINATED</td><td>127.0.0.1:59365</td><td style=\"text-align: right;\">       141</td><td>arima               </td><td style=\"text-align: right;\">     1</td><td style=\"text-align: right;\">         660.722</td><td style=\"text-align: right;\">777.594  </td></tr>\n",
       "<tr><td>train_model_3638d_00007</td><td>TERMINATED</td><td>127.0.0.1:59366</td><td style=\"text-align: right;\">       163</td><td>arima               </td><td style=\"text-align: right;\">     1</td><td style=\"text-align: right;\">         689.343</td><td style=\"text-align: right;\">749.294  </td></tr>\n",
       "<tr><td>train_model_3638d_00008</td><td>TERMINATED</td><td>127.0.0.1:59365</td><td style=\"text-align: right;\">       173</td><td>arima               </td><td style=\"text-align: right;\">     1</td><td style=\"text-align: right;\">         174.195</td><td style=\"text-align: right;\">  2.76771</td></tr>\n",
       "</tbody>\n",
       "</table>\n",
       "  </div>\n",
       "</div>\n",
       "<style>\n",
       ".tuneStatus {\n",
       "  color: var(--jp-ui-font-color1);\n",
       "}\n",
       ".tuneStatus .systemInfo {\n",
       "  display: flex;\n",
       "  flex-direction: column;\n",
       "}\n",
       ".tuneStatus td {\n",
       "  white-space: nowrap;\n",
       "}\n",
       ".tuneStatus .trialStatus {\n",
       "  display: flex;\n",
       "  flex-direction: column;\n",
       "}\n",
       ".tuneStatus h3 {\n",
       "  font-weight: bold;\n",
       "}\n",
       ".tuneStatus .hDivider {\n",
       "  border-bottom-width: var(--jp-border-width);\n",
       "  border-bottom-color: var(--jp-border-color0);\n",
       "  border-bottom-style: solid;\n",
       "}\n",
       ".tuneStatus .vDivider {\n",
       "  border-left-width: var(--jp-border-width);\n",
       "  border-left-color: var(--jp-border-color0);\n",
       "  border-left-style: solid;\n",
       "  margin: 0.5em 1em 0.5em 1em;\n",
       "}\n",
       "</style>\n"
      ],
      "text/plain": [
       "<IPython.core.display.HTML object>"
      ]
     },
     "metadata": {},
     "output_type": "display_data"
    },
    {
     "data": {
      "text/html": [
       "<div class=\"trialProgress\">\n",
       "  <h3>Trial Progress</h3>\n",
       "  <table>\n",
       "<thead>\n",
       "<tr><th>Trial name             </th><th style=\"text-align: right;\">    error</th><th>should_checkpoint  </th></tr>\n",
       "</thead>\n",
       "<tbody>\n",
       "<tr><td>train_model_3638d_00000</td><td style=\"text-align: right;\">429.015  </td><td>True               </td></tr>\n",
       "<tr><td>train_model_3638d_00001</td><td style=\"text-align: right;\">765.727  </td><td>True               </td></tr>\n",
       "<tr><td>train_model_3638d_00002</td><td style=\"text-align: right;\">  2.01364</td><td>True               </td></tr>\n",
       "<tr><td>train_model_3638d_00003</td><td style=\"text-align: right;\">424.163  </td><td>True               </td></tr>\n",
       "<tr><td>train_model_3638d_00004</td><td style=\"text-align: right;\">757.584  </td><td>True               </td></tr>\n",
       "<tr><td>train_model_3638d_00005</td><td style=\"text-align: right;\">  1.95361</td><td>True               </td></tr>\n",
       "<tr><td>train_model_3638d_00006</td><td style=\"text-align: right;\">777.594  </td><td>True               </td></tr>\n",
       "<tr><td>train_model_3638d_00007</td><td style=\"text-align: right;\">749.294  </td><td>True               </td></tr>\n",
       "<tr><td>train_model_3638d_00008</td><td style=\"text-align: right;\">  2.76771</td><td>True               </td></tr>\n",
       "</tbody>\n",
       "</table>\n",
       "</div>\n",
       "<style>\n",
       ".trialProgress {\n",
       "  display: flex;\n",
       "  flex-direction: column;\n",
       "  color: var(--jp-ui-font-color1);\n",
       "}\n",
       ".trialProgress h3 {\n",
       "  font-weight: bold;\n",
       "}\n",
       ".trialProgress td {\n",
       "  white-space: nowrap;\n",
       "}\n",
       "</style>\n"
      ],
      "text/plain": [
       "<IPython.core.display.HTML object>"
      ]
     },
     "metadata": {},
     "output_type": "display_data"
    },
    {
     "name": "stdout",
     "output_type": "stream",
     "text": [
      "\u001b[2m\u001b[36m(train_model pid=59361)\u001b[0m Initial log joint probability = -7.91565\n",
      "\u001b[2m\u001b[36m(train_model pid=59361)\u001b[0m     Iter      log prob        ||dx||      ||grad||       alpha      alpha0  # evals  Notes \n",
      "\u001b[2m\u001b[36m(train_model pid=59361)\u001b[0m       51       397.063   0.000560653       74.0208   6.822e-06       0.001      112  LS failed, Hessian reset \n",
      "\u001b[2m\u001b[36m(train_model pid=59361)\u001b[0m       99       397.125   0.000103525       51.8111           1           1      168   \n",
      "\u001b[2m\u001b[36m(train_model pid=59361)\u001b[0m     Iter      log prob        ||dx||      ||grad||       alpha      alpha0  # evals  Notes \n",
      "\u001b[2m\u001b[36m(train_model pid=59361)\u001b[0m      110       397.158   0.000536069       70.7774   1.167e-05       0.001      271  LS failed, Hessian reset \n",
      "\u001b[2m\u001b[36m(train_model pid=59361)\u001b[0m      174       397.211   3.98382e-05       81.7764   5.984e-07       0.001      394  LS failed, Hessian reset \n",
      "\u001b[2m\u001b[36m(train_model pid=59361)\u001b[0m      199       397.212   6.94153e-07       62.7933      0.4761      0.4761      426   \n",
      "\u001b[2m\u001b[36m(train_model pid=59361)\u001b[0m     Iter      log prob        ||dx||      ||grad||       alpha      alpha0  # evals  Notes \n",
      "\u001b[2m\u001b[36m(train_model pid=59361)\u001b[0m      231       397.213   9.23164e-06       79.9119   1.473e-07       0.001      511  LS failed, Hessian reset \n",
      "\u001b[2m\u001b[36m(train_model pid=59361)\u001b[0m      295       397.214    1.6867e-06       84.5517   1.626e-08       0.001      635  LS failed, Hessian reset \n",
      "\u001b[2m\u001b[36m(train_model pid=59361)\u001b[0m      299       397.214    8.4479e-07       51.2712           1           1      639   \n",
      "\u001b[2m\u001b[36m(train_model pid=59361)\u001b[0m     Iter      log prob        ||dx||      ||grad||       alpha      alpha0  # evals  Notes \n",
      "\u001b[2m\u001b[36m(train_model pid=59361)\u001b[0m      307       397.214   2.88756e-08        52.396      0.3679           1      654   \n",
      "\u001b[2m\u001b[36m(train_model pid=59361)\u001b[0m Optimization terminated normally: \n",
      "\u001b[2m\u001b[36m(train_model pid=59361)\u001b[0m   Convergence detected: relative gradient magnitude is below tolerance\n"
     ]
    },
    {
     "name": "stderr",
     "output_type": "stream",
     "text": [
      "\u001b[2m\u001b[36m(train_model pid=59361)\u001b[0m INFO:prophet:Disabling yearly seasonality. Run prophet with yearly_seasonality=True to override this.\n",
      "\u001b[2m\u001b[36m(train_model pid=59361)\u001b[0m INFO:prophet:Disabling daily seasonality. Run prophet with daily_seasonality=True to override this.\n"
     ]
    },
    {
     "name": "stdout",
     "output_type": "stream",
     "text": [
      "\u001b[2m\u001b[36m(train_model pid=59351)\u001b[0m Initial log joint probability = -7.91565\n",
      "\u001b[2m\u001b[36m(train_model pid=59351)\u001b[0m     Iter      log prob        ||dx||      ||grad||       alpha      alpha0  # evals  Notes \n",
      "\u001b[2m\u001b[36m(train_model pid=59351)\u001b[0m       87       398.038   0.000762505       72.5021   9.517e-06       0.001      152  LS failed, Hessian reset \n",
      "\u001b[2m\u001b[36m(train_model pid=59351)\u001b[0m       99       398.056   1.95851e-05       82.3567      0.2177      0.2177      166   \n",
      "\u001b[2m\u001b[36m(train_model pid=59351)\u001b[0m     Iter      log prob        ||dx||      ||grad||       alpha      alpha0  # evals  Notes \n",
      "\u001b[2m\u001b[36m(train_model pid=59351)\u001b[0m      157       398.067   8.23558e-05       82.7175   8.471e-07       0.001      272  LS failed, Hessian reset \n",
      "\u001b[2m\u001b[36m(train_model pid=59351)\u001b[0m      199       398.069   2.66357e-07        28.474           1           1      330   \n",
      "\u001b[2m\u001b[36m(train_model pid=59351)\u001b[0m     Iter      log prob        ||dx||      ||grad||       alpha      alpha0  # evals  Notes \n",
      "\u001b[2m\u001b[36m(train_model pid=59351)\u001b[0m      299       398.185   7.26151e-05       60.4293          10           1      463   \n",
      "\u001b[2m\u001b[36m(train_model pid=59351)\u001b[0m     Iter      log prob        ||dx||      ||grad||       alpha      alpha0  # evals  Notes \n",
      "\u001b[2m\u001b[36m(train_model pid=59351)\u001b[0m      358       398.206   0.000157712        87.843   2.118e-06       0.001      601  LS failed, Hessian reset \n",
      "\u001b[2m\u001b[36m(train_model pid=59351)\u001b[0m      399       398.221   9.99893e-06       77.2035           1           1      657   \n",
      "\u001b[2m\u001b[36m(train_model pid=59351)\u001b[0m     Iter      log prob        ||dx||      ||grad||       alpha      alpha0  # evals  Notes \n",
      "\u001b[2m\u001b[36m(train_model pid=59351)\u001b[0m      454       398.222   1.90176e-06       90.6574   2.472e-08       0.001      773  LS failed, Hessian reset \n",
      "\u001b[2m\u001b[36m(train_model pid=59351)\u001b[0m      476       398.222   3.44677e-08       68.6914       0.168           1      807   \n",
      "\u001b[2m\u001b[36m(train_model pid=59351)\u001b[0m Optimization terminated normally: \n",
      "\u001b[2m\u001b[36m(train_model pid=59351)\u001b[0m   Convergence detected: relative gradient magnitude is below tolerance\n"
     ]
    },
    {
     "name": "stderr",
     "output_type": "stream",
     "text": [
      "\u001b[2m\u001b[36m(train_model pid=59351)\u001b[0m INFO:prophet:Disabling yearly seasonality. Run prophet with yearly_seasonality=True to override this.\n",
      "\u001b[2m\u001b[36m(train_model pid=59351)\u001b[0m INFO:prophet:Disabling daily seasonality. Run prophet with daily_seasonality=True to override this.\n",
      "\u001b[2m\u001b[36m(train_model pid=59362)\u001b[0m INFO:prophet:Disabling yearly seasonality. Run prophet with yearly_seasonality=True to override this.\n",
      "\u001b[2m\u001b[36m(train_model pid=59362)\u001b[0m INFO:prophet:Disabling daily seasonality. Run prophet with daily_seasonality=True to override this.\n"
     ]
    },
    {
     "name": "stdout",
     "output_type": "stream",
     "text": [
      "\u001b[2m\u001b[36m(train_model pid=59362)\u001b[0m Initial log joint probability = -10.2699\n",
      "\u001b[2m\u001b[36m(train_model pid=59362)\u001b[0m     Iter      log prob        ||dx||      ||grad||       alpha      alpha0  # evals  Notes \n",
      "\u001b[2m\u001b[36m(train_model pid=59362)\u001b[0m       99       401.367     0.0311999       77.8624           1           1      139   \n",
      "\u001b[2m\u001b[36m(train_model pid=59362)\u001b[0m     Iter      log prob        ||dx||      ||grad||       alpha      alpha0  # evals  Notes \n",
      "\u001b[2m\u001b[36m(train_model pid=59362)\u001b[0m      137       401.687   7.00032e-08       33.9695   3.268e-09       0.001      257  LS failed, Hessian reset \n",
      "\u001b[2m\u001b[36m(train_model pid=59362)\u001b[0m      138       401.687   4.24552e-10       40.9158    0.006948           1      261   \n",
      "\u001b[2m\u001b[36m(train_model pid=59362)\u001b[0m Optimization terminated normally: \n",
      "\u001b[2m\u001b[36m(train_model pid=59362)\u001b[0m   Convergence detected: absolute parameter change was below tolerance\n",
      "\u001b[2m\u001b[36m(train_model pid=59364)\u001b[0m Initial log joint probability = -15.4513\n",
      "\u001b[2m\u001b[36m(train_model pid=59364)\u001b[0m     Iter      log prob        ||dx||      ||grad||       alpha      alpha0  # evals  Notes \n",
      "\u001b[2m\u001b[36m(train_model pid=59364)\u001b[0m       99       276.583   1.00524e-05       72.3808      0.1268           1      132   \n",
      "\u001b[2m\u001b[36m(train_model pid=59364)\u001b[0m     Iter      log prob        ||dx||      ||grad||       alpha      alpha0  # evals  Notes \n",
      "\u001b[2m\u001b[36m(train_model pid=59364)\u001b[0m      141       276.586   1.09891e-05        66.011   1.289e-07       0.001      227  LS failed, Hessian reset \n",
      "\u001b[2m\u001b[36m(train_model pid=59364)\u001b[0m      173       276.587   9.74852e-09       68.8541      0.8734      0.8734      271   \n",
      "\u001b[2m\u001b[36m(train_model pid=59364)\u001b[0m Optimization terminated normally: \n",
      "\u001b[2m\u001b[36m(train_model pid=59364)\u001b[0m   Convergence detected: absolute parameter change was below tolerance\n"
     ]
    },
    {
     "name": "stderr",
     "output_type": "stream",
     "text": [
      "\u001b[2m\u001b[36m(train_model pid=59364)\u001b[0m INFO:prophet:Disabling yearly seasonality. Run prophet with yearly_seasonality=True to override this.\n",
      "\u001b[2m\u001b[36m(train_model pid=59364)\u001b[0m INFO:prophet:Disabling daily seasonality. Run prophet with daily_seasonality=True to override this.\n",
      "\u001b[2m\u001b[36m(train_model pid=59360)\u001b[0m INFO:prophet:Disabling yearly seasonality. Run prophet with yearly_seasonality=True to override this.\n",
      "\u001b[2m\u001b[36m(train_model pid=59360)\u001b[0m INFO:prophet:Disabling daily seasonality. Run prophet with daily_seasonality=True to override this.\n"
     ]
    },
    {
     "name": "stdout",
     "output_type": "stream",
     "text": [
      "\u001b[2m\u001b[36m(train_model pid=59360)\u001b[0m Initial log joint probability = -15.4513\n",
      "\u001b[2m\u001b[36m(train_model pid=59360)\u001b[0m     Iter      log prob        ||dx||      ||grad||       alpha      alpha0  # evals  Notes \n",
      "\u001b[2m\u001b[36m(train_model pid=59360)\u001b[0m       99       278.233   2.49083e-05       63.9045      0.3765      0.3765      130   \n",
      "\u001b[2m\u001b[36m(train_model pid=59360)\u001b[0m     Iter      log prob        ||dx||      ||grad||       alpha      alpha0  # evals  Notes \n",
      "\u001b[2m\u001b[36m(train_model pid=59360)\u001b[0m      199       278.245   4.89167e-07       57.0001       3.155           1      278   \n",
      "\u001b[2m\u001b[36m(train_model pid=59360)\u001b[0m     Iter      log prob        ||dx||      ||grad||       alpha      alpha0  # evals  Notes \n",
      "\u001b[2m\u001b[36m(train_model pid=59360)\u001b[0m      250       278.247   7.96641e-09       81.9656      0.4143      0.4143      347   \n",
      "\u001b[2m\u001b[36m(train_model pid=59360)\u001b[0m Optimization terminated normally: \n",
      "\u001b[2m\u001b[36m(train_model pid=59360)\u001b[0m   Convergence detected: absolute parameter change was below tolerance\n",
      "\u001b[2m\u001b[36m(train_model pid=59359)\u001b[0m Initial log joint probability = -10.2699\n",
      "\u001b[2m\u001b[36m(train_model pid=59359)\u001b[0m     Iter      log prob        ||dx||      ||grad||       alpha      alpha0  # evals  Notes \n",
      "\u001b[2m\u001b[36m(train_model pid=59359)\u001b[0m       99       401.114   0.000216135       34.1453      0.4934       0.971      138   \n",
      "\u001b[2m\u001b[36m(train_model pid=59359)\u001b[0m     Iter      log prob        ||dx||      ||grad||       alpha      alpha0  # evals  Notes \n",
      "\u001b[2m\u001b[36m(train_model pid=59359)\u001b[0m      155       401.284   4.09534e-06       58.9174   1.252e-07       0.001      254  LS failed, Hessian reset \n",
      "\u001b[2m\u001b[36m(train_model pid=59359)\u001b[0m      168       401.284   3.34735e-06       38.2751   5.594e-08       0.001      309  LS failed, Hessian reset \n",
      "\u001b[2m\u001b[36m(train_model pid=59359)\u001b[0m      177       401.285    7.4597e-08       31.8436   1.874e-09       0.001      358  LS failed, Hessian reset \n",
      "\u001b[2m\u001b[36m(train_model pid=59359)\u001b[0m Optimization terminated normally: \n",
      "\u001b[2m\u001b[36m(train_model pid=59359)\u001b[0m   Convergence detected: relative gradient magnitude is below tolerance\n"
     ]
    },
    {
     "name": "stderr",
     "output_type": "stream",
     "text": [
      "\u001b[2m\u001b[36m(train_model pid=59359)\u001b[0m INFO:prophet:Disabling yearly seasonality. Run prophet with yearly_seasonality=True to override this.\n",
      "\u001b[2m\u001b[36m(train_model pid=59359)\u001b[0m INFO:prophet:Disabling daily seasonality. Run prophet with daily_seasonality=True to override this.\n",
      "\u001b[2m\u001b[36m(train_model pid=59365)\u001b[0m /Users/christy/opt/miniconda3/envs/prophet38/lib/python3.8/site-packages/statsmodels/tsa/base/tsa_model.py:836: ValueWarning: No supported index is available. Prediction results will be given with an integer index beginning at `start`.\n",
      "\u001b[2m\u001b[36m(train_model pid=59365)\u001b[0m   return get_prediction_index(\n",
      "2022-11-19 12:31:39,538\tINFO tune.py:777 -- Total run time: 841.54 seconds (840.86 seconds for the tuning loop).\n"
     ]
    },
    {
     "name": "stdout",
     "output_type": "stream",
     "text": [
      "Total number of models: 9\n",
      "TOTAL TIME TAKEN: 841.57 seconds\n",
      "Best result: {'model_type': 'prophet_multiplicative', 'location': 173}\n"
     ]
    }
   ],
   "source": [
    "# Define a tuner object using Ray AIR Tuner API\n",
    "tuner = tune.Tuner(\n",
    "    train_model, \n",
    "    param_space=search_space,\n",
    "    run_config=air.RunConfig(\n",
    "        \n",
    "        #redirect logs to relative path instead of default ~/ray_results/\n",
    "        local_dir = \"my_Tune_logs\",\n",
    "        name = \"batch_tuning\",\n",
    "\n",
    "        # Set Ray Tune verbosity.  Print summary table only with levels 2 or 3.\n",
    "        verbose=2,\n",
    "        ),\n",
    ")\n",
    "\n",
    "# 4. Run the experiment with Ray Tune\n",
    "start = time.time()\n",
    "results = tuner.fit()\n",
    "total_time_taken = time.time() - start\n",
    "\n",
    "# Print some training stats\n",
    "print(f\"Total number of models: {len(results)}\")\n",
    "print(f\"TOTAL TIME TAKEN: {total_time_taken:.2f} seconds\")\n",
    "best_result = results.get_best_result(metric=\"error\", mode=\"min\").config\n",
    "print(f\"Best result: {best_result}\")\n",
    "\n",
    "# Total number of models: 771\n",
    "# TOTAL TIME TAKEN: 2345.36 seconds\n",
    "# 39 minutes"
   ]
  },
  {
   "cell_type": "markdown",
   "id": "5deb323b",
   "metadata": {},
   "source": [
    "<br>\n",
    "\n",
    "**After the Tune experiment has run, select the best model per pickup location.**\n",
    "\n",
    "We can assemble the Tune results ([ResultGrid object](https://docs.ray.io/en/master/tune/examples/tune_analyze_results.html)) into a pandas dataframe, then sort by minimum error, to select the best model per pickup location."
   ]
  },
  {
   "cell_type": "code",
   "execution_count": 15,
   "id": "de288173",
   "metadata": {},
   "outputs": [
    {
     "name": "stdout",
     "output_type": "stream",
     "text": [
      "location_id      int64\n",
      "error          float64\n",
      "model_type      object\n",
      "checkpoint      object\n",
      "dtype: object\n"
     ]
    },
    {
     "data": {
      "text/html": [
       "<div>\n",
       "<style scoped>\n",
       "    .dataframe tbody tr th:only-of-type {\n",
       "        vertical-align: middle;\n",
       "    }\n",
       "\n",
       "    .dataframe tbody tr th {\n",
       "        vertical-align: top;\n",
       "    }\n",
       "\n",
       "    .dataframe thead th {\n",
       "        text-align: right;\n",
       "    }\n",
       "</style>\n",
       "<table border=\"1\" class=\"dataframe\">\n",
       "  <thead>\n",
       "    <tr style=\"text-align: right;\">\n",
       "      <th></th>\n",
       "      <th>location_id</th>\n",
       "      <th>error</th>\n",
       "      <th>model_type</th>\n",
       "      <th>checkpoint</th>\n",
       "    </tr>\n",
       "  </thead>\n",
       "  <tbody>\n",
       "    <tr>\n",
       "      <th>0</th>\n",
       "      <td>141</td>\n",
       "      <td>429.015187</td>\n",
       "      <td>prophet_additive</td>\n",
       "      <td>Checkpoint(local_path=/Users/christy/Documents...</td>\n",
       "    </tr>\n",
       "    <tr>\n",
       "      <th>1</th>\n",
       "      <td>163</td>\n",
       "      <td>765.727152</td>\n",
       "      <td>prophet_additive</td>\n",
       "      <td>Checkpoint(local_path=/Users/christy/Documents...</td>\n",
       "    </tr>\n",
       "    <tr>\n",
       "      <th>2</th>\n",
       "      <td>173</td>\n",
       "      <td>2.013636</td>\n",
       "      <td>prophet_additive</td>\n",
       "      <td>Checkpoint(local_path=/Users/christy/Documents...</td>\n",
       "    </tr>\n",
       "    <tr>\n",
       "      <th>3</th>\n",
       "      <td>141</td>\n",
       "      <td>424.163154</td>\n",
       "      <td>prophet_multiplicative</td>\n",
       "      <td>Checkpoint(local_path=/Users/christy/Documents...</td>\n",
       "    </tr>\n",
       "    <tr>\n",
       "      <th>4</th>\n",
       "      <td>163</td>\n",
       "      <td>757.583776</td>\n",
       "      <td>prophet_multiplicative</td>\n",
       "      <td>Checkpoint(local_path=/Users/christy/Documents...</td>\n",
       "    </tr>\n",
       "    <tr>\n",
       "      <th>5</th>\n",
       "      <td>173</td>\n",
       "      <td>1.953614</td>\n",
       "      <td>prophet_multiplicative</td>\n",
       "      <td>Checkpoint(local_path=/Users/christy/Documents...</td>\n",
       "    </tr>\n",
       "    <tr>\n",
       "      <th>6</th>\n",
       "      <td>141</td>\n",
       "      <td>777.593762</td>\n",
       "      <td>arima</td>\n",
       "      <td>Checkpoint(local_path=/Users/christy/Documents...</td>\n",
       "    </tr>\n",
       "    <tr>\n",
       "      <th>7</th>\n",
       "      <td>163</td>\n",
       "      <td>749.294157</td>\n",
       "      <td>arima</td>\n",
       "      <td>Checkpoint(local_path=/Users/christy/Documents...</td>\n",
       "    </tr>\n",
       "  </tbody>\n",
       "</table>\n",
       "</div>"
      ],
      "text/plain": [
       "   location_id       error              model_type  \\\n",
       "0          141  429.015187        prophet_additive   \n",
       "1          163  765.727152        prophet_additive   \n",
       "2          173    2.013636        prophet_additive   \n",
       "3          141  424.163154  prophet_multiplicative   \n",
       "4          163  757.583776  prophet_multiplicative   \n",
       "5          173    1.953614  prophet_multiplicative   \n",
       "6          141  777.593762                   arima   \n",
       "7          163  749.294157                   arima   \n",
       "\n",
       "                                          checkpoint  \n",
       "0  Checkpoint(local_path=/Users/christy/Documents...  \n",
       "1  Checkpoint(local_path=/Users/christy/Documents...  \n",
       "2  Checkpoint(local_path=/Users/christy/Documents...  \n",
       "3  Checkpoint(local_path=/Users/christy/Documents...  \n",
       "4  Checkpoint(local_path=/Users/christy/Documents...  \n",
       "5  Checkpoint(local_path=/Users/christy/Documents...  \n",
       "6  Checkpoint(local_path=/Users/christy/Documents...  \n",
       "7  Checkpoint(local_path=/Users/christy/Documents...  "
      ]
     },
     "execution_count": 15,
     "metadata": {},
     "output_type": "execute_result"
    }
   ],
   "source": [
    "# get a list of training loss errors\n",
    "errors = []\n",
    "[errors.append(i.metrics.get('error',10000.0)) for i in results]\n",
    "\n",
    "# get a list of checkpoints\n",
    "checkpoints = []\n",
    "[checkpoints.append(i.checkpoint) for i in results] \n",
    "\n",
    "# get a list of locations\n",
    "locations = []\n",
    "[locations.append(i.config['location']) for i in results]\n",
    "\n",
    "# get a list of model params\n",
    "model_type = []\n",
    "[model_type.append(i.config['model_type']) for i in results]\n",
    "\n",
    "# Assemble a pandas dataframe from Tune results\n",
    "results_df = pd.DataFrame(zip(locations, errors, model_type, checkpoints),\n",
    "                          columns = ['location_id', 'error', 'model_type', 'checkpoint'])\n",
    "print(results_df.dtypes)\n",
    "results_df.head(8)"
   ]
  },
  {
   "cell_type": "code",
   "execution_count": 16,
   "id": "9edea2b8",
   "metadata": {},
   "outputs": [
    {
     "name": "stdout",
     "output_type": "stream",
     "text": [
      "error         float64\n",
      "model_type     object\n",
      "checkpoint     object\n",
      "dtype: object\n"
     ]
    },
    {
     "data": {
      "text/html": [
       "<div>\n",
       "<style scoped>\n",
       "    .dataframe tbody tr th:only-of-type {\n",
       "        vertical-align: middle;\n",
       "    }\n",
       "\n",
       "    .dataframe tbody tr th {\n",
       "        vertical-align: top;\n",
       "    }\n",
       "\n",
       "    .dataframe thead th {\n",
       "        text-align: right;\n",
       "    }\n",
       "</style>\n",
       "<table border=\"1\" class=\"dataframe\">\n",
       "  <thead>\n",
       "    <tr style=\"text-align: right;\">\n",
       "      <th></th>\n",
       "      <th>error</th>\n",
       "      <th>model_type</th>\n",
       "      <th>checkpoint</th>\n",
       "    </tr>\n",
       "    <tr>\n",
       "      <th>location_id</th>\n",
       "      <th></th>\n",
       "      <th></th>\n",
       "      <th></th>\n",
       "    </tr>\n",
       "  </thead>\n",
       "  <tbody>\n",
       "    <tr>\n",
       "      <th>173</th>\n",
       "      <td>1.953614</td>\n",
       "      <td>prophet_multiplicative</td>\n",
       "      <td>Checkpoint(local_path=/Users/christy/Documents...</td>\n",
       "    </tr>\n",
       "    <tr>\n",
       "      <th>141</th>\n",
       "      <td>424.163154</td>\n",
       "      <td>prophet_multiplicative</td>\n",
       "      <td>Checkpoint(local_path=/Users/christy/Documents...</td>\n",
       "    </tr>\n",
       "    <tr>\n",
       "      <th>163</th>\n",
       "      <td>749.294157</td>\n",
       "      <td>arima</td>\n",
       "      <td>Checkpoint(local_path=/Users/christy/Documents...</td>\n",
       "    </tr>\n",
       "  </tbody>\n",
       "</table>\n",
       "</div>"
      ],
      "text/plain": [
       "                  error              model_type  \\\n",
       "location_id                                       \n",
       "173            1.953614  prophet_multiplicative   \n",
       "141          424.163154  prophet_multiplicative   \n",
       "163          749.294157                   arima   \n",
       "\n",
       "                                                    checkpoint  \n",
       "location_id                                                     \n",
       "173          Checkpoint(local_path=/Users/christy/Documents...  \n",
       "141          Checkpoint(local_path=/Users/christy/Documents...  \n",
       "163          Checkpoint(local_path=/Users/christy/Documents...  "
      ]
     },
     "execution_count": 16,
     "metadata": {},
     "output_type": "execute_result"
    }
   ],
   "source": [
    "# Keep only 1 model per location_id with minimum error\n",
    "final_df = results_df.copy()\n",
    "final_df.dropna(inplace=True)\n",
    "final_df = final_df.loc[(final_df.error > 0), :]\n",
    "final_df = final_df.loc[final_df.groupby('location_id')['error'].idxmin()]\n",
    "final_df.sort_values(by=[\"error\"], inplace=True)\n",
    "final_df.set_index('location_id', inplace=True, drop=True)\n",
    "print(final_df.dtypes)\n",
    "final_df"
   ]
  },
  {
   "cell_type": "code",
   "execution_count": 17,
   "id": "1593dac0",
   "metadata": {},
   "outputs": [
    {
     "data": {
      "text/html": [
       "<div>\n",
       "<style scoped>\n",
       "    .dataframe tbody tr th:only-of-type {\n",
       "        vertical-align: middle;\n",
       "    }\n",
       "\n",
       "    .dataframe tbody tr th {\n",
       "        vertical-align: top;\n",
       "    }\n",
       "\n",
       "    .dataframe thead th {\n",
       "        text-align: right;\n",
       "    }\n",
       "</style>\n",
       "<table border=\"1\" class=\"dataframe\">\n",
       "  <thead>\n",
       "    <tr style=\"text-align: right;\">\n",
       "      <th></th>\n",
       "      <th>error</th>\n",
       "      <th>model_type</th>\n",
       "      <th>checkpoint</th>\n",
       "    </tr>\n",
       "  </thead>\n",
       "  <tbody>\n",
       "    <tr>\n",
       "      <th>count</th>\n",
       "      <td>3.000000</td>\n",
       "      <td>3</td>\n",
       "      <td>3</td>\n",
       "    </tr>\n",
       "    <tr>\n",
       "      <th>unique</th>\n",
       "      <td>NaN</td>\n",
       "      <td>2</td>\n",
       "      <td>3</td>\n",
       "    </tr>\n",
       "    <tr>\n",
       "      <th>top</th>\n",
       "      <td>NaN</td>\n",
       "      <td>prophet_multiplicative</td>\n",
       "      <td>Checkpoint(local_path=/Users/christy/Documents...</td>\n",
       "    </tr>\n",
       "    <tr>\n",
       "      <th>freq</th>\n",
       "      <td>NaN</td>\n",
       "      <td>2</td>\n",
       "      <td>1</td>\n",
       "    </tr>\n",
       "    <tr>\n",
       "      <th>mean</th>\n",
       "      <td>391.803641</td>\n",
       "      <td>NaN</td>\n",
       "      <td>NaN</td>\n",
       "    </tr>\n",
       "    <tr>\n",
       "      <th>std</th>\n",
       "      <td>374.719662</td>\n",
       "      <td>NaN</td>\n",
       "      <td>NaN</td>\n",
       "    </tr>\n",
       "    <tr>\n",
       "      <th>min</th>\n",
       "      <td>1.953614</td>\n",
       "      <td>NaN</td>\n",
       "      <td>NaN</td>\n",
       "    </tr>\n",
       "    <tr>\n",
       "      <th>25%</th>\n",
       "      <td>213.058384</td>\n",
       "      <td>NaN</td>\n",
       "      <td>NaN</td>\n",
       "    </tr>\n",
       "    <tr>\n",
       "      <th>50%</th>\n",
       "      <td>424.163154</td>\n",
       "      <td>NaN</td>\n",
       "      <td>NaN</td>\n",
       "    </tr>\n",
       "    <tr>\n",
       "      <th>75%</th>\n",
       "      <td>586.728655</td>\n",
       "      <td>NaN</td>\n",
       "      <td>NaN</td>\n",
       "    </tr>\n",
       "    <tr>\n",
       "      <th>max</th>\n",
       "      <td>749.294157</td>\n",
       "      <td>NaN</td>\n",
       "      <td>NaN</td>\n",
       "    </tr>\n",
       "  </tbody>\n",
       "</table>\n",
       "</div>"
      ],
      "text/plain": [
       "             error              model_type  \\\n",
       "count     3.000000                       3   \n",
       "unique         NaN                       2   \n",
       "top            NaN  prophet_multiplicative   \n",
       "freq           NaN                       2   \n",
       "mean    391.803641                     NaN   \n",
       "std     374.719662                     NaN   \n",
       "min       1.953614                     NaN   \n",
       "25%     213.058384                     NaN   \n",
       "50%     424.163154                     NaN   \n",
       "75%     586.728655                     NaN   \n",
       "max     749.294157                     NaN   \n",
       "\n",
       "                                               checkpoint  \n",
       "count                                                   3  \n",
       "unique                                                  3  \n",
       "top     Checkpoint(local_path=/Users/christy/Documents...  \n",
       "freq                                                    1  \n",
       "mean                                                  NaN  \n",
       "std                                                   NaN  \n",
       "min                                                   NaN  \n",
       "25%                                                   NaN  \n",
       "50%                                                   NaN  \n",
       "75%                                                   NaN  \n",
       "max                                                   NaN  "
      ]
     },
     "execution_count": 17,
     "metadata": {},
     "output_type": "execute_result"
    }
   ],
   "source": [
    "final_df.describe(include='all')"
   ]
  },
  {
   "cell_type": "code",
   "execution_count": 18,
   "id": "b0706b74",
   "metadata": {},
   "outputs": [
    {
     "data": {
      "text/plain": [
       "model_type            \n",
       "prophet_multiplicative    0.666667\n",
       "arima                     0.333333\n",
       "dtype: float64"
      ]
     },
     "execution_count": 18,
     "metadata": {},
     "output_type": "execute_result"
    }
   ],
   "source": [
    "final_df[['model_type']].value_counts(normalize=True) "
   ]
  },
  {
   "cell_type": "markdown",
   "id": "347ed4f1",
   "metadata": {},
   "source": [
    "## Load a model from checkpoint and perform inference  <a class=\"anchor\" id=\"load_checkpoint\"></a>"
   ]
  },
  {
   "cell_type": "markdown",
   "id": "a88a9b39",
   "metadata": {},
   "source": [
    "```{tip}\n",
    "[Ray AIR Predictors](https://docs.ray.io/en/latest/ray-air/predictors.html) make batch inference easy since they have internal logic to parallelize the inference.\n",
    "```\n",
    "  \n",
    "Finally, we will restore the best and worst models from checkpoint, make predictions, and inspect the forecasts.  Prophet includes a convenient plot library which displays actual data along with predictions and confidence intervals and future forecasts.\n",
    "\n",
    "- We will restore a Prophet model directly from checkpoint, and demonstrate it can be used for inference.  \n",
    "- We will easily obtain AIR Checkpoint objects from the Tune results. \n"
   ]
  },
  {
   "cell_type": "code",
   "execution_count": 19,
   "id": "b9d42c7d",
   "metadata": {},
   "outputs": [
    {
     "name": "stdout",
     "output_type": "stream",
     "text": [
      "sample location_id: 173\n",
      "sample_model_type: prophet_multiplicative\n",
      "type checkpoint: <class 'ray.air.checkpoint.Checkpoint'>\n",
      "type restored model: <class 'prophet.forecaster.Prophet'>\n",
      "type restored df: <class 'pandas.core.frame.DataFrame'>\n",
      "location 173, model_type prophet_multiplicative, best error 1.9536139647885697\n"
     ]
    },
    {
     "data": {
      "image/png": "[encoded data removed]",
      "text/plain": [
       "<Figure size 1000x600 with 1 Axes>"
      ]
     },
     "metadata": {},
     "output_type": "display_data"
    }
   ],
   "source": [
    "# Get the pickup location for the best model\n",
    "sample_location_id = final_df.index[0]\n",
    "print(f\"sample location_id: {sample_location_id}\")\n",
    "\n",
    "# Get the model type\n",
    "sample_model_type = final_df.loc[[sample_location_id]].model_type.values[0]\n",
    "print(f\"sample_model_type: {sample_model_type}\")\n",
    "\n",
    "# Get a checkpoint directly from the pandas dataframe of Tune results\n",
    "checkpoint = final_df.checkpoint[sample_location_id]\n",
    "print(f\"type checkpoint: {type(checkpoint)}\")\n",
    "\n",
    "# Restore a model from checkpoint\n",
    "sample_model = checkpoint.to_dict()['model']\n",
    "print(f\"type restored model: {type(sample_model)}\")\n",
    "\n",
    "## OPTION 1 - Restore already-created predictions from model training and eval\n",
    "forecast_df = checkpoint.to_dict()['forecast_df']\n",
    "print(f\"type restored df: {type(forecast_df)}\")\n",
    "\n",
    "# Print location and error.\n",
    "sample_error =  final_df.loc[[sample_location_id]].error.values[0]\n",
    "print(f\"location {sample_location_id}, model_type {sample_model_type}, best error {sample_error}\")\n",
    "\n",
    "# If prophet model, use prophet built-in plot\n",
    "if sample_model_type == 'arima':\n",
    "    forecast_df.plot();\n",
    "else:\n",
    "#     # OPTION 2\n",
    "#     # Create a forecast into the future\n",
    "#     # Note: this is redundant work because we already did this during model training and eval\n",
    "#     future_dates = sample_model.make_future_dataframe(periods=FORECAST_LENGTH, freq='D')\n",
    "#     future = sample_model.predict(future_dates)\n",
    "#     print(\"Tail of future dates:\")\n",
    "#     print(future_dates.tail())\n",
    "    plot1 = sample_model.plot(forecast_df);"
   ]
  },
  {
   "cell_type": "code",
   "execution_count": null,
   "id": "1b663c73",
   "metadata": {},
   "outputs": [
    {
     "name": "stdout",
     "output_type": "stream",
     "text": [
      "sample location_id: 163\n",
      "sample_model_type: arima\n",
      "type restored model: <class 'pmdarima.arima.arima.ARIMA'>\n",
      "type restored df: <class 'pandas.core.frame.DataFrame'>\n",
      "location 163, model_type arima, best error 749.2941566539528\n"
     ]
    },
    {
     "data": {
      "image/png": "[encoded data removed]",
      "text/plain": [
       "<Figure size 640x480 with 1 Axes>"
      ]
     },
     "metadata": {},
     "output_type": "display_data"
    }
   ],
   "source": [
    "# Get the pickup location for the worst model\n",
    "sample_location_id = final_df.index[len(final_df)-1]\n",
    "print(f\"sample location_id: {sample_location_id}\")\n",
    "\n",
    "# Get the model type\n",
    "sample_model_type = final_df.loc[[sample_location_id]].model_type.values[0]\n",
    "print(f\"sample_model_type: {sample_model_type}\")\n",
    "\n",
    "# Get a checkpoint directly from the pandas dataframe of Tune results\n",
    "checkpoint = final_df.checkpoint[sample_location_id]\n",
    "\n",
    "# Restore a model from checkpoint\n",
    "sample_model = checkpoint.to_dict()['model']\n",
    "print(f\"type restored model: {type(sample_model)}\")\n",
    "\n",
    "## OPTION 1 - Restore already-created predictions from model training and eval\n",
    "forecast_df = checkpoint.to_dict()['forecast_df']\n",
    "print(f\"type restored df: {type(forecast_df)}\")\n",
    "\n",
    "# Print location and error.\n",
    "sample_error =  final_df.loc[[sample_location_id]].error.values[0]\n",
    "print(f\"location {sample_location_id}, model_type {sample_model_type}, best error {sample_error}\")\n",
    "\n",
    "# If prophet model, use prophet built-in plot\n",
    "if sample_model_type == 'arima':\n",
    "    forecast_df.plot();\n",
    "else:\n",
    "    plot1 = sample_model.plot(forecast_df);"
   ]
  },
  {
   "cell_type": "code",
   "execution_count": null,
   "id": "51b0c7bc",
   "metadata": {},
   "outputs": [],
   "source": [
    "# # Get the pickup location for an average model\n",
    "# sample_location_id = final_df.index[25]\n",
    "# print(f\"sample location_id: {sample_location_id}\")\n",
    "\n",
    "# # Get the model type\n",
    "# sample_model_type = final_df.loc[[sample_location_id]].model_type.values[0]\n",
    "# print(f\"sample_model_type: {sample_model_type}\")\n",
    "\n",
    "# # Get a checkpoint directly from the pandas dataframe of Tune results\n",
    "# checkpoint = final_df.checkpoint[sample_location_id]\n",
    "\n",
    "# # Restore a model from checkpoint\n",
    "# sample_model = checkpoint.to_dict()['model']\n",
    "# print(f\"type restored model: {type(sample_model)}\")\n",
    "\n",
    "# ## OPTION 1 - Restore already-created predictions from model training and eval\n",
    "# forecast_df = checkpoint.to_dict()['forecast_df']\n",
    "# print(f\"type restored df: {type(forecast_df)}\")\n",
    "\n",
    "# # Print location and error.\n",
    "# sample_error =  final_df.loc[[sample_location_id]].error.values[0]\n",
    "# print(f\"location {sample_location_id}, model_type {sample_model_type}, best error {sample_error}\")\n",
    "\n",
    "# # If prophet model, use prophet built-in plot\n",
    "# if sample_model_type == 'arima':\n",
    "#     forecast_df.plot();\n",
    "# else:\n",
    "#     plot1 = sample_model.plot(forecast_df);"
   ]
  },
  {
   "cell_type": "code",
   "execution_count": null,
   "id": "aa2d9570",
   "metadata": {},
   "outputs": [],
   "source": [
    "# # Get the pickup location for an ARIMA model\n",
    "# sample_location_id = final_df.loc[(final_df.model_type==\"arima\"), :].sort_values(\"error\").index.values[0]\n",
    "# print(f\"sample location_id: {sample_location_id}\")\n",
    "\n",
    "# # Get the model type\n",
    "# sample_model_type = final_df.loc[[sample_location_id]].model_type.values[0]\n",
    "# print(f\"sample_model_type: {sample_model_type}\")\n",
    "\n",
    "# # Get a checkpoint directly from the pandas dataframe of Tune results\n",
    "# checkpoint = final_df.checkpoint[sample_location_id]\n",
    "\n",
    "# # Restore a model from checkpoint\n",
    "# sample_model = checkpoint.to_dict()['model']\n",
    "# print(f\"type restored model: {type(sample_model)}\")\n",
    "\n",
    "# ## OPTION 1 - Restore already-created predictions from model training and eval\n",
    "# forecast_df = checkpoint.to_dict()['forecast_df']\n",
    "# print(f\"type restored df: {type(forecast_df)}\")\n",
    "\n",
    "# # Print location and error.\n",
    "# sample_error =  final_df.loc[[sample_location_id]].error.values[0]\n",
    "# print(f\"location {sample_location_id}, model_type {sample_model_type}, best error {sample_error}\")\n",
    "\n",
    "# # If prophet model, use prophet built-in plot\n",
    "# if sample_model_type == 'arima':\n",
    "#     forecast_df.plot();\n",
    "# else:\n",
    "#     plot1 = sample_model.plot(forecast_df);"
   ]
  },
  {
   "cell_type": "code",
   "execution_count": null,
   "id": "e84054fc",
   "metadata": {},
   "outputs": [],
   "source": []
  }
 ],
 "metadata": {
  "kernelspec": {
   "display_name": "Python 3 (ipykernel)",
   "language": "python",
   "name": "python3"
  },
  "language_info": {
   "codemirror_mode": {
    "name": "ipython",
    "version": 3
   },
   "file_extension": ".py",
   "mimetype": "text/x-python",
   "name": "python",
   "nbconvert_exporter": "python",
   "pygments_lexer": "ipython3",
   "version": "3.8.13"
  }
 },
 "nbformat": 4,
 "nbformat_minor": 5
}
